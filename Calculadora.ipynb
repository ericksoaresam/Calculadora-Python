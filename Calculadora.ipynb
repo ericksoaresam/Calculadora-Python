{
  "nbformat": 4,
  "nbformat_minor": 0,
  "metadata": {
    "colab": {
      "provenance": []
    },
    "kernelspec": {
      "name": "python3",
      "display_name": "Python 3"
    },
    "language_info": {
      "name": "python"
    }
  },
  "cells": [
    {
      "cell_type": "code",
      "source": [
        "while True:\n",
        "    calculadora = int(input(\"-=-=-Menu-=-=-\\n 1- Soma\\n 2- Subtração\\n 3- Divisão\\n 4- Multiplicação\\n 0- Sair\\n -=-=-=-=-=-=-=-\\n\"))\n",
        "\n",
        "    if calculadora == 1:\n",
        "        print(\"Você escolheu a opção soma!\")\n",
        "        x = int(input(\"Insira o primeiro número: \"))\n",
        "        y = int(input(\"Insira o segundo número: \"))\n",
        "        print(\"O resultado da operação é\", x + y)\n",
        "\n",
        "    elif calculadora == 2:\n",
        "        print(\"Você escolheu a opção subtração!\")\n",
        "        x = int(input(\"Insira o primeiro número: \"))\n",
        "        y = int(input(\"Insira o segundo número: \"))\n",
        "        print(\"O resultado da operação é\", x - y)\n",
        "\n",
        "    elif calculadora == 3:\n",
        "        print(\"Você escolheu a opção divisão!\")\n",
        "        x = int(input(\"Insira o primeiro número: \"))\n",
        "        y = int(input(\"Insira o segundo número: \"))\n",
        "        if y == 0:\n",
        "            print(\"Erro: divisão por zero não é permitida.\")\n",
        "        else:\n",
        "            print(\"O resultado da operação é\", x / y)\n",
        "\n",
        "    elif calculadora == 4:\n",
        "        print(\"Você escolheu a opção multiplicação!\")\n",
        "        x = int(input(\"Insira o primeiro número: \"))\n",
        "        y = int(input(\"Insira o segundo número: \"))\n",
        "        print(\"O resultado da operação é\", x * y)\n",
        "\n",
        "    elif calculadora == 0:\n",
        "        print(\"Calculadora desligando...\")\n",
        "        break  # Encerra o loop\n",
        "\n",
        "    else:\n",
        "        print(\"Opção inválida! Insira um número correto.\")"
      ],
      "metadata": {
        "colab": {
          "base_uri": "https://localhost:8080/"
        },
        "id": "9TbDM51nHxIk",
        "outputId": "1f076787-a3e1-483b-a69a-f1657e793cfd"
      },
      "execution_count": 29,
      "outputs": [
        {
          "output_type": "stream",
          "name": "stdout",
          "text": [
            "-=-=-Menu-=-=-\n",
            " 1- Soma\n",
            " 2- Subtração\n",
            " 3- Divisão\n",
            " 4- Multiplicação\n",
            " 0- Sair\n",
            " -=-=-=-=-=-=-=-\n",
            "0\n",
            "Calculadora desligando...\n"
          ]
        }
      ]
    }
  ]
}